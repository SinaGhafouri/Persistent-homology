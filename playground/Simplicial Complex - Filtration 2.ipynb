{
 "cells": [
  {
   "cell_type": "code",
   "execution_count": 2,
   "metadata": {},
   "outputs": [],
   "source": [
    "import numpy as np\n",
    "import itertools\n",
    "import matplotlib.pyplot as plt\n",
    "from matplotlib.patches import Circle\n",
    "import plotly.graph_objects as go\n",
    "from ipywidgets import interact\n",
    "\n",
    "from ripser import ripser\n",
    "from persim import plot_diagrams\n",
    "\n",
    "import warnings\n",
    "warnings.filterwarnings(\"ignore\")"
   ]
  },
  {
   "cell_type": "markdown",
   "metadata": {},
   "source": [
    "# Functions:"
   ]
  },
  {
   "cell_type": "code",
   "execution_count": 3,
   "metadata": {},
   "outputs": [],
   "source": [
    "def distance(x0, x1, y0, y1):\n",
    "    return np.sqrt((x0-x1)**2+(y0-y1)**2)\n",
    "    \n",
    "def simplex_finder(xs, ys, parameter, ax):\n",
    "    points = range(len(xs))\n",
    "    distances = []\n",
    "    triangles_x = [] ; triangles_y = []\n",
    "    for i in range(len(xs)):\n",
    "        distances.append([])\n",
    "        for j in range(len(ys)):\n",
    "            distances[-1].append(distance(xs[i],xs[j],ys[i],ys[j]))\n",
    "\n",
    "    all_two_fold_combinations = tuple(itertools.combinations(points, 2))\n",
    "    all_three_fold_combinations = tuple(itertools.combinations(points, 3))\n",
    "    triangles_x = []\n",
    "    triangles_y = []\n",
    "    for i in range(len(all_three_fold_combinations)):\n",
    "        three_points = tuple(itertools.combinations(all_three_fold_combinations[i], 2))\n",
    "        condition = distances[three_points[0][0]][three_points[0][1]]<parameter*2 and distances[three_points[1][0]][three_points[1][1]]<parameter*2 and distances[three_points[2][0]][three_points[2][1]]<parameter*2\n",
    "        if condition:\n",
    "            triangles_x.append([]) ; triangles_y.append([])\n",
    "            triangles_x[-1].extend([xs[all_three_fold_combinations[i][j]] for j in range(3)])\n",
    "            triangles_y[-1].extend([ys[all_three_fold_combinations[i][j]] for j in range(3)])\n",
    "    triangles_x = np.array(triangles_x) ; triangles_y = np.array(triangles_y)\n",
    "    xf = triangles_x.flatten() ; yf = triangles_y.flatten()\n",
    "    x_in_triangle = np.unique(triangles_x.flatten()) ; y_in_triangle = []\n",
    "    for i in range(len(x_in_triangle)): y_in_triangle.append(yf[list(xf).index(x_in_triangle[i])])\n",
    "\n",
    "    \"\"\"ax:\"\"\"\n",
    "    for i,j in all_two_fold_combinations: #\"\"\"drawing 2-simplices\"\"\"\n",
    "        if distance(xs[i],xs[j],ys[i],ys[j]) < parameter*2:\n",
    "            ax.plot([xs[i],xs[j]],[ys[i],ys[j]], 'c-')\n",
    "    for i in range(len(triangles_x)): #\"\"\"drawing 3-simplices\"\"\"\n",
    "        ax.fill(triangles_x[i], triangles_y[i], alpha=.3, color='b')\n",
    "    for x,y in zip(xs, ys): ax.add_patch(plt.Circle((x, y), parameter, alpha=.3, color = 'r'))\n"
   ]
  },
  {
   "cell_type": "code",
   "execution_count": 4,
   "metadata": {},
   "outputs": [
    {
     "data": {
      "application/vnd.jupyter.widget-view+json": {
       "model_id": "802df1129ad94a129335426e60a2fbf0",
       "version_major": 2,
       "version_minor": 0
      },
      "text/plain": [
       "interactive(children=(FloatSlider(value=0.0, description='parameter', max=5.0), Output()), _dom_classes=('widg…"
      ]
     },
     "metadata": {},
     "output_type": "display_data"
    }
   ],
   "source": [
    "max_xlim = max_ylim = 5\n",
    "points = 10\n",
    "xs = (np.random.random(points)-.5) * max_xlim*2 #[2, 2, -2, -2]#\n",
    "ys = (np.random.random(points)-.5) * max_ylim*2 #[-2, 2, 2, -2]#\n",
    "\n",
    "fig = go.FigureWidget()\n",
    "@interact(parameter = (0,max_xlim,max_xlim/50))\n",
    "def update(parameter=0):\n",
    "    fig,ax = plt.subplots(1,3, figsize=(17,5)); \n",
    "    ax[0].set_xlim(-max_xlim,max_xlim); ax[0].set_ylim(-max_xlim,max_ylim); ax[0].grid()\n",
    "    xy = np.array((xs, ys)).T\n",
    "    dgms = ripser(xy, maxdim=1, thresh=parameter*2)['dgms'] #; print(dgms[0])\n",
    "    dgms[0]/=2 ; dgms[1]/=2\n",
    "    dgms[0][:,1][dgms[0][:,1]>=parameter]=parameter #; print(dgms[0])\n",
    "    dgms[1][:,1][dgms[1][:,1]>=parameter]=parameter #; print(dgms[0])\n",
    "    ax[0].plot(xs,ys,'co')\n",
    "    ax[0].set_title('Point cloud') ; ax[0].set_xlabel(r'$x$') ; ax[0].set_ylabel(r'$y$')\n",
    "    simplex_finder(xs, ys, parameter, ax[0])\n",
    "    y_ticks_H0 = np.linspace(0.1, max_xlim/2-.1, len(dgms[0][:,0]))\n",
    "    y_ticks_H1 = np.linspace(max_xlim/2, max_xlim-.1, len(dgms[1][:,0]))\n",
    "    ax[1].hlines(y=y_ticks_H0, xmin=dgms[0][:,0], xmax=dgms[0][:,1], linestyle='-', colors='g', label=r'$H_0$')\n",
    "    ax[1].hlines(y=y_ticks_H1, xmin=dgms[1][:,0], xmax=dgms[1][:,1], linestyle='--', colors='r', label=r'$H_1$')\n",
    "    ax[1].set_xlim(0,max_xlim); ax[1].set_ylim(0,max_xlim); ax[1].set_yticks([]); ax[1].set_title('Persistence barcode') ; ax[1].set_xlabel('Parameter')\n",
    "    ax[1].legend()\n",
    "    plot_diagrams(dgms, ax=ax[2], xy_range=[0,max_xlim,0,max_ylim]) ; ax[2].set_title('Persistence diagram');"
   ]
  }
 ],
 "metadata": {
  "kernelspec": {
   "display_name": "Python 3.10.4 64-bit",
   "language": "python",
   "name": "python3"
  },
  "language_info": {
   "codemirror_mode": {
    "name": "ipython",
    "version": 3
   },
   "file_extension": ".py",
   "mimetype": "text/x-python",
   "name": "python",
   "nbconvert_exporter": "python",
   "pygments_lexer": "ipython3",
   "version": "3.10.4"
  },
  "vscode": {
   "interpreter": {
    "hash": "916dbcbb3f70747c44a77c7bcd40155683ae19c65e1c03b4aa3499c5328201f1"
   }
  }
 },
 "nbformat": 4,
 "nbformat_minor": 2
}
